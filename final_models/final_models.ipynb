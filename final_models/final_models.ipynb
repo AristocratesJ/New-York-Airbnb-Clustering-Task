{
 "cells": [
  {
   "cell_type": "markdown",
   "source": [
    "# Wczytanie danych oraz bibliotek"
   ],
   "metadata": {
    "collapsed": false
   },
   "id": "6ad147fbe9be06f4"
  },
  {
   "cell_type": "code",
   "execution_count": 1,
   "id": "initial_id",
   "metadata": {
    "collapsed": true,
    "ExecuteTime": {
     "end_time": "2024-05-31T18:02:44.031833Z",
     "start_time": "2024-05-31T18:02:44.027051Z"
    }
   },
   "outputs": [],
   "source": [
    "import numpy as np\n",
    "import pandas as pd\n",
    "import seaborn as sns\n",
    "import random\n",
    "from matplotlib import pyplot as plt"
   ]
  },
  {
   "cell_type": "code",
   "outputs": [
    {
     "data": {
      "text/plain": "                   id                                               name  \\\n0  718037328155265207  Rental unit in Queens · 5 bedrooms · 8 beds · ...   \n1             5536638  Rental unit in Brooklyn · ★4.60 · 2 bedrooms ·...   \n2             4605840  Rental unit in Brooklyn · ★4.93 · 1 bedroom · ...   \n3  594240338554500815  Rental unit in New York · 1 bedroom · 1 bed · ...   \n4               26785  Rental unit in Brooklyn · ★4.93 · 1 bedroom · ...   \n\n     host_id      host_name neighbourhood_group       neighbourhood  latitude  \\\n0     204539           Mark              Queens           Ridgewood  40.70262   \n1   28709982          Sidiq            Brooklyn        Williamsburg  40.72027   \n2   23788242        Suzanne            Brooklyn  Bedford-Stuyvesant  40.68670   \n3  384559808  Best Inns USA           Manhattan        East Village  40.73221   \n4      42273           Dani            Brooklyn         South Slope  40.66860   \n\n   longitude        room_type  price  ...  last_review  reviews_per_month  \\\n0  -73.89800  Entire home/apt  471.0  ...   2022-11-03               0.07   \n1  -73.95513  Entire home/apt  225.0  ...   2023-09-13               0.49   \n2  -73.94856     Private room   80.0  ...   2023-11-17               1.00   \n3  -73.98689  Entire home/apt   83.0  ...   2023-08-11               0.12   \n4  -73.98723  Entire home/apt   90.0  ...   2022-05-31               2.90   \n\n  calculated_host_listings_count  availability_365  number_of_reviews_ltm  \\\n0                              9               365                      0   \n1                              5                90                      7   \n2                              2               363                     12   \n3                             30               106                      1   \n4                              3               188                      0   \n\n      license     rating bedrooms beds baths  \n0  No License  No rating        5    8     2  \n1  No License      4.60         2    2     1  \n2  No License      4.93         1    1     1  \n3  No License  No rating        1    1     1  \n4  No License      4.93         1    1     1  \n\n[5 rows x 22 columns]",
      "text/html": "<div>\n<style scoped>\n    .dataframe tbody tr th:only-of-type {\n        vertical-align: middle;\n    }\n\n    .dataframe tbody tr th {\n        vertical-align: top;\n    }\n\n    .dataframe thead th {\n        text-align: right;\n    }\n</style>\n<table border=\"1\" class=\"dataframe\">\n  <thead>\n    <tr style=\"text-align: right;\">\n      <th></th>\n      <th>id</th>\n      <th>name</th>\n      <th>host_id</th>\n      <th>host_name</th>\n      <th>neighbourhood_group</th>\n      <th>neighbourhood</th>\n      <th>latitude</th>\n      <th>longitude</th>\n      <th>room_type</th>\n      <th>price</th>\n      <th>...</th>\n      <th>last_review</th>\n      <th>reviews_per_month</th>\n      <th>calculated_host_listings_count</th>\n      <th>availability_365</th>\n      <th>number_of_reviews_ltm</th>\n      <th>license</th>\n      <th>rating</th>\n      <th>bedrooms</th>\n      <th>beds</th>\n      <th>baths</th>\n    </tr>\n  </thead>\n  <tbody>\n    <tr>\n      <th>0</th>\n      <td>718037328155265207</td>\n      <td>Rental unit in Queens · 5 bedrooms · 8 beds · ...</td>\n      <td>204539</td>\n      <td>Mark</td>\n      <td>Queens</td>\n      <td>Ridgewood</td>\n      <td>40.70262</td>\n      <td>-73.89800</td>\n      <td>Entire home/apt</td>\n      <td>471.0</td>\n      <td>...</td>\n      <td>2022-11-03</td>\n      <td>0.07</td>\n      <td>9</td>\n      <td>365</td>\n      <td>0</td>\n      <td>No License</td>\n      <td>No rating</td>\n      <td>5</td>\n      <td>8</td>\n      <td>2</td>\n    </tr>\n    <tr>\n      <th>1</th>\n      <td>5536638</td>\n      <td>Rental unit in Brooklyn · ★4.60 · 2 bedrooms ·...</td>\n      <td>28709982</td>\n      <td>Sidiq</td>\n      <td>Brooklyn</td>\n      <td>Williamsburg</td>\n      <td>40.72027</td>\n      <td>-73.95513</td>\n      <td>Entire home/apt</td>\n      <td>225.0</td>\n      <td>...</td>\n      <td>2023-09-13</td>\n      <td>0.49</td>\n      <td>5</td>\n      <td>90</td>\n      <td>7</td>\n      <td>No License</td>\n      <td>4.60</td>\n      <td>2</td>\n      <td>2</td>\n      <td>1</td>\n    </tr>\n    <tr>\n      <th>2</th>\n      <td>4605840</td>\n      <td>Rental unit in Brooklyn · ★4.93 · 1 bedroom · ...</td>\n      <td>23788242</td>\n      <td>Suzanne</td>\n      <td>Brooklyn</td>\n      <td>Bedford-Stuyvesant</td>\n      <td>40.68670</td>\n      <td>-73.94856</td>\n      <td>Private room</td>\n      <td>80.0</td>\n      <td>...</td>\n      <td>2023-11-17</td>\n      <td>1.00</td>\n      <td>2</td>\n      <td>363</td>\n      <td>12</td>\n      <td>No License</td>\n      <td>4.93</td>\n      <td>1</td>\n      <td>1</td>\n      <td>1</td>\n    </tr>\n    <tr>\n      <th>3</th>\n      <td>594240338554500815</td>\n      <td>Rental unit in New York · 1 bedroom · 1 bed · ...</td>\n      <td>384559808</td>\n      <td>Best Inns USA</td>\n      <td>Manhattan</td>\n      <td>East Village</td>\n      <td>40.73221</td>\n      <td>-73.98689</td>\n      <td>Entire home/apt</td>\n      <td>83.0</td>\n      <td>...</td>\n      <td>2023-08-11</td>\n      <td>0.12</td>\n      <td>30</td>\n      <td>106</td>\n      <td>1</td>\n      <td>No License</td>\n      <td>No rating</td>\n      <td>1</td>\n      <td>1</td>\n      <td>1</td>\n    </tr>\n    <tr>\n      <th>4</th>\n      <td>26785</td>\n      <td>Rental unit in Brooklyn · ★4.93 · 1 bedroom · ...</td>\n      <td>42273</td>\n      <td>Dani</td>\n      <td>Brooklyn</td>\n      <td>South Slope</td>\n      <td>40.66860</td>\n      <td>-73.98723</td>\n      <td>Entire home/apt</td>\n      <td>90.0</td>\n      <td>...</td>\n      <td>2022-05-31</td>\n      <td>2.90</td>\n      <td>3</td>\n      <td>188</td>\n      <td>0</td>\n      <td>No License</td>\n      <td>4.93</td>\n      <td>1</td>\n      <td>1</td>\n      <td>1</td>\n    </tr>\n  </tbody>\n</table>\n<p>5 rows × 22 columns</p>\n</div>"
     },
     "execution_count": 2,
     "metadata": {},
     "output_type": "execute_result"
    }
   ],
   "source": [
    "data = pd.read_csv(\"../data/to_model/new_york_listings_2024_to_model.csv\");\n",
    "data.head()"
   ],
   "metadata": {
    "collapsed": false,
    "ExecuteTime": {
     "end_time": "2024-05-31T18:03:07.062933Z",
     "start_time": "2024-05-31T18:03:06.858530Z"
    }
   },
   "id": "9609b137cae9a9f9",
   "execution_count": 2
  },
  {
   "cell_type": "markdown",
   "source": [
    "# Przygotowanie danych\n",
    "- usuwamy kolumny: id, host_id, host_name, name, neighbourhood_group, neighbourhood, number_of_reviews_ltm (zostawiamy rewievs_per_month), bedrooms (zostawiamy beds)\n",
    "- mapujemy kolumnę \n",
    "        - 'license' na 0 i 1 (0 - brak licencji, 1 - licencja)\n",
    "        - 'baths' na int (jeśli nie jest podana to 0)\n",
    "        - 'bedrooms' na int (jeśli nie jest podana to 0, a jeśli jest studio to 1)\n",
    "        - 'rating' na float (jeśli nie ma to NaN)\n",
    "- ordinal encoding dla 'room_type'\n",
    "- kodujmey date 'last_review'\n",
    "- uzywamy regresji linowej zeby uzupelnic NA w ratingu"
   ],
   "metadata": {
    "collapsed": false
   },
   "id": "4ee245b4c6a74490"
  },
  {
   "cell_type": "markdown",
   "source": [
    "### mapujemy"
   ],
   "metadata": {
    "collapsed": false
   },
   "id": "b58c3cd903063719"
  },
  {
   "cell_type": "code",
   "outputs": [
    {
     "data": {
      "text/plain": "                       id                                               name  \\\n0      718037328155265207  Rental unit in Queens · 5 bedrooms · 8 beds · ...   \n1                 5536638  Rental unit in Brooklyn · ★4.60 · 2 bedrooms ·...   \n2                 4605840  Rental unit in Brooklyn · ★4.93 · 1 bedroom · ...   \n3      594240338554500815  Rental unit in New York · 1 bedroom · 1 bed · ...   \n4                   26785  Rental unit in Brooklyn · ★4.93 · 1 bedroom · ...   \n...                   ...                                                ...   \n16601  726891322486149349  Condo in Brooklyn · ★4.87 · 3 bedrooms · 3 bed...   \n16602            51828187  Home in Queens · ★4.69 · 1 bedroom · 1 bed · 1...   \n16603  746852890077275772  Rental unit in The Bronx · ★4.73 · 1 bedroom ·...   \n16604            14822309  Rental unit in New York · ★4.84 · 1 bedroom · ...   \n16605  800437249525223935  Rental unit in New York · 1 bedroom · 1 bed · ...   \n\n         host_id      host_name neighbourhood_group       neighbourhood  \\\n0         204539           Mark              Queens           Ridgewood   \n1       28709982          Sidiq            Brooklyn        Williamsburg   \n2       23788242        Suzanne            Brooklyn  Bedford-Stuyvesant   \n3      384559808  Best Inns USA           Manhattan        East Village   \n4          42273           Dani            Brooklyn         South Slope   \n...          ...            ...                 ...                 ...   \n16601  478704134         Milosz            Brooklyn  Bedford-Stuyvesant   \n16602  419863661        Yessica              Queens              Corona   \n16603  471441645           Dyar               Bronx            Allerton   \n16604   16978120           Chip           Manhattan              Harlem   \n16605  206952308          Daria           Manhattan             Midtown   \n\n        latitude  longitude        room_type  price  ...  last_review  \\\n0      40.702620 -73.898000  Entire home/apt  471.0  ...   2022-11-03   \n1      40.720270 -73.955130  Entire home/apt  225.0  ...   2023-09-13   \n2      40.686700 -73.948560     Private room   80.0  ...   2023-11-17   \n3      40.732210 -73.986890  Entire home/apt   83.0  ...   2023-08-11   \n4      40.668600 -73.987230  Entire home/apt   90.0  ...   2022-05-31   \n...          ...        ...              ...    ...  ...          ...   \n16601  40.686001 -73.943693  Entire home/apt  135.0  ...   2023-01-10   \n16602  40.745100 -73.864880     Private room   68.0  ...   2023-10-16   \n16603  40.867770 -73.860180  Entire home/apt  100.0  ...   2023-10-07   \n16604  40.830791 -73.949509     Private room   50.0  ...   2023-12-10   \n16605  40.762250 -73.978280  Entire home/apt  130.0  ...   2023-06-01   \n\n       reviews_per_month calculated_host_listings_count  availability_365  \\\n0                   0.07                              9               365   \n1                   0.49                              5                90   \n2                   1.00                              2               363   \n3                   0.12                             30               106   \n4                   2.90                              3               188   \n...                  ...                            ...               ...   \n16601               0.97                              1               262   \n16602               2.68                              2               180   \n16603               2.21                              5               365   \n16604               0.21                              4                42   \n16605               0.20                              5               365   \n\n       number_of_reviews_ltm  license  rating  bedrooms  beds  baths  \n0                          0        0     NaN         5     8      2  \n1                          7        0    4.60         2     2      1  \n2                         12        0    4.93         1     1      1  \n3                          1        0     NaN         1     1      1  \n4                          0        0    4.93         1     1      1  \n...                      ...      ...     ...       ...   ...    ...  \n16601                      1        0    4.87         3     3      1  \n16602                     16        0    4.69         1     1      1  \n16603                     24        0    4.73         1     1      1  \n16604                      1        0    4.84         1     1      1  \n16605                      2        0     NaN         1     1      1  \n\n[16606 rows x 22 columns]",
      "text/html": "<div>\n<style scoped>\n    .dataframe tbody tr th:only-of-type {\n        vertical-align: middle;\n    }\n\n    .dataframe tbody tr th {\n        vertical-align: top;\n    }\n\n    .dataframe thead th {\n        text-align: right;\n    }\n</style>\n<table border=\"1\" class=\"dataframe\">\n  <thead>\n    <tr style=\"text-align: right;\">\n      <th></th>\n      <th>id</th>\n      <th>name</th>\n      <th>host_id</th>\n      <th>host_name</th>\n      <th>neighbourhood_group</th>\n      <th>neighbourhood</th>\n      <th>latitude</th>\n      <th>longitude</th>\n      <th>room_type</th>\n      <th>price</th>\n      <th>...</th>\n      <th>last_review</th>\n      <th>reviews_per_month</th>\n      <th>calculated_host_listings_count</th>\n      <th>availability_365</th>\n      <th>number_of_reviews_ltm</th>\n      <th>license</th>\n      <th>rating</th>\n      <th>bedrooms</th>\n      <th>beds</th>\n      <th>baths</th>\n    </tr>\n  </thead>\n  <tbody>\n    <tr>\n      <th>0</th>\n      <td>718037328155265207</td>\n      <td>Rental unit in Queens · 5 bedrooms · 8 beds · ...</td>\n      <td>204539</td>\n      <td>Mark</td>\n      <td>Queens</td>\n      <td>Ridgewood</td>\n      <td>40.702620</td>\n      <td>-73.898000</td>\n      <td>Entire home/apt</td>\n      <td>471.0</td>\n      <td>...</td>\n      <td>2022-11-03</td>\n      <td>0.07</td>\n      <td>9</td>\n      <td>365</td>\n      <td>0</td>\n      <td>0</td>\n      <td>NaN</td>\n      <td>5</td>\n      <td>8</td>\n      <td>2</td>\n    </tr>\n    <tr>\n      <th>1</th>\n      <td>5536638</td>\n      <td>Rental unit in Brooklyn · ★4.60 · 2 bedrooms ·...</td>\n      <td>28709982</td>\n      <td>Sidiq</td>\n      <td>Brooklyn</td>\n      <td>Williamsburg</td>\n      <td>40.720270</td>\n      <td>-73.955130</td>\n      <td>Entire home/apt</td>\n      <td>225.0</td>\n      <td>...</td>\n      <td>2023-09-13</td>\n      <td>0.49</td>\n      <td>5</td>\n      <td>90</td>\n      <td>7</td>\n      <td>0</td>\n      <td>4.60</td>\n      <td>2</td>\n      <td>2</td>\n      <td>1</td>\n    </tr>\n    <tr>\n      <th>2</th>\n      <td>4605840</td>\n      <td>Rental unit in Brooklyn · ★4.93 · 1 bedroom · ...</td>\n      <td>23788242</td>\n      <td>Suzanne</td>\n      <td>Brooklyn</td>\n      <td>Bedford-Stuyvesant</td>\n      <td>40.686700</td>\n      <td>-73.948560</td>\n      <td>Private room</td>\n      <td>80.0</td>\n      <td>...</td>\n      <td>2023-11-17</td>\n      <td>1.00</td>\n      <td>2</td>\n      <td>363</td>\n      <td>12</td>\n      <td>0</td>\n      <td>4.93</td>\n      <td>1</td>\n      <td>1</td>\n      <td>1</td>\n    </tr>\n    <tr>\n      <th>3</th>\n      <td>594240338554500815</td>\n      <td>Rental unit in New York · 1 bedroom · 1 bed · ...</td>\n      <td>384559808</td>\n      <td>Best Inns USA</td>\n      <td>Manhattan</td>\n      <td>East Village</td>\n      <td>40.732210</td>\n      <td>-73.986890</td>\n      <td>Entire home/apt</td>\n      <td>83.0</td>\n      <td>...</td>\n      <td>2023-08-11</td>\n      <td>0.12</td>\n      <td>30</td>\n      <td>106</td>\n      <td>1</td>\n      <td>0</td>\n      <td>NaN</td>\n      <td>1</td>\n      <td>1</td>\n      <td>1</td>\n    </tr>\n    <tr>\n      <th>4</th>\n      <td>26785</td>\n      <td>Rental unit in Brooklyn · ★4.93 · 1 bedroom · ...</td>\n      <td>42273</td>\n      <td>Dani</td>\n      <td>Brooklyn</td>\n      <td>South Slope</td>\n      <td>40.668600</td>\n      <td>-73.987230</td>\n      <td>Entire home/apt</td>\n      <td>90.0</td>\n      <td>...</td>\n      <td>2022-05-31</td>\n      <td>2.90</td>\n      <td>3</td>\n      <td>188</td>\n      <td>0</td>\n      <td>0</td>\n      <td>4.93</td>\n      <td>1</td>\n      <td>1</td>\n      <td>1</td>\n    </tr>\n    <tr>\n      <th>...</th>\n      <td>...</td>\n      <td>...</td>\n      <td>...</td>\n      <td>...</td>\n      <td>...</td>\n      <td>...</td>\n      <td>...</td>\n      <td>...</td>\n      <td>...</td>\n      <td>...</td>\n      <td>...</td>\n      <td>...</td>\n      <td>...</td>\n      <td>...</td>\n      <td>...</td>\n      <td>...</td>\n      <td>...</td>\n      <td>...</td>\n      <td>...</td>\n      <td>...</td>\n      <td>...</td>\n    </tr>\n    <tr>\n      <th>16601</th>\n      <td>726891322486149349</td>\n      <td>Condo in Brooklyn · ★4.87 · 3 bedrooms · 3 bed...</td>\n      <td>478704134</td>\n      <td>Milosz</td>\n      <td>Brooklyn</td>\n      <td>Bedford-Stuyvesant</td>\n      <td>40.686001</td>\n      <td>-73.943693</td>\n      <td>Entire home/apt</td>\n      <td>135.0</td>\n      <td>...</td>\n      <td>2023-01-10</td>\n      <td>0.97</td>\n      <td>1</td>\n      <td>262</td>\n      <td>1</td>\n      <td>0</td>\n      <td>4.87</td>\n      <td>3</td>\n      <td>3</td>\n      <td>1</td>\n    </tr>\n    <tr>\n      <th>16602</th>\n      <td>51828187</td>\n      <td>Home in Queens · ★4.69 · 1 bedroom · 1 bed · 1...</td>\n      <td>419863661</td>\n      <td>Yessica</td>\n      <td>Queens</td>\n      <td>Corona</td>\n      <td>40.745100</td>\n      <td>-73.864880</td>\n      <td>Private room</td>\n      <td>68.0</td>\n      <td>...</td>\n      <td>2023-10-16</td>\n      <td>2.68</td>\n      <td>2</td>\n      <td>180</td>\n      <td>16</td>\n      <td>0</td>\n      <td>4.69</td>\n      <td>1</td>\n      <td>1</td>\n      <td>1</td>\n    </tr>\n    <tr>\n      <th>16603</th>\n      <td>746852890077275772</td>\n      <td>Rental unit in The Bronx · ★4.73 · 1 bedroom ·...</td>\n      <td>471441645</td>\n      <td>Dyar</td>\n      <td>Bronx</td>\n      <td>Allerton</td>\n      <td>40.867770</td>\n      <td>-73.860180</td>\n      <td>Entire home/apt</td>\n      <td>100.0</td>\n      <td>...</td>\n      <td>2023-10-07</td>\n      <td>2.21</td>\n      <td>5</td>\n      <td>365</td>\n      <td>24</td>\n      <td>0</td>\n      <td>4.73</td>\n      <td>1</td>\n      <td>1</td>\n      <td>1</td>\n    </tr>\n    <tr>\n      <th>16604</th>\n      <td>14822309</td>\n      <td>Rental unit in New York · ★4.84 · 1 bedroom · ...</td>\n      <td>16978120</td>\n      <td>Chip</td>\n      <td>Manhattan</td>\n      <td>Harlem</td>\n      <td>40.830791</td>\n      <td>-73.949509</td>\n      <td>Private room</td>\n      <td>50.0</td>\n      <td>...</td>\n      <td>2023-12-10</td>\n      <td>0.21</td>\n      <td>4</td>\n      <td>42</td>\n      <td>1</td>\n      <td>0</td>\n      <td>4.84</td>\n      <td>1</td>\n      <td>1</td>\n      <td>1</td>\n    </tr>\n    <tr>\n      <th>16605</th>\n      <td>800437249525223935</td>\n      <td>Rental unit in New York · 1 bedroom · 1 bed · ...</td>\n      <td>206952308</td>\n      <td>Daria</td>\n      <td>Manhattan</td>\n      <td>Midtown</td>\n      <td>40.762250</td>\n      <td>-73.978280</td>\n      <td>Entire home/apt</td>\n      <td>130.0</td>\n      <td>...</td>\n      <td>2023-06-01</td>\n      <td>0.20</td>\n      <td>5</td>\n      <td>365</td>\n      <td>2</td>\n      <td>0</td>\n      <td>NaN</td>\n      <td>1</td>\n      <td>1</td>\n      <td>1</td>\n    </tr>\n  </tbody>\n</table>\n<p>16606 rows × 22 columns</p>\n</div>"
     },
     "execution_count": 3,
     "metadata": {},
     "output_type": "execute_result"
    }
   ],
   "source": [
    "def lic_mapper(a):\n",
    "    if a == \"No License\" or a == \"Exempt\":\n",
    "        return 0\n",
    "    else:\n",
    "        return 1\n",
    "\n",
    "def bath_mapper(a):\n",
    "    if a == \"Not specified\":\n",
    "        return 0\n",
    "    else:\n",
    "        return int(float(a))\n",
    "def bedroom_mapper(a): # Uznałem, że posiadanie studio (czyli całe mieszkanie w jednym większym pokoju) to tak jakby była jedna sypialnia\n",
    "    if a == \"Studio\":\n",
    "        return 1\n",
    "    else:\n",
    "        return int(a)\n",
    "def rating_mapper(a): # na razie tak może zostać\n",
    "    if a == \"New \" or a == \"No rating\":\n",
    "        return np.nan\n",
    "    else:\n",
    "        return float(a)\n",
    "data[\"license\"] = data[\"license\"].map(lic_mapper)  # Jeśli ma licencję to 1, jeśli nie to 0\n",
    "data[\"baths\"] = data[\"baths\"].map(bath_mapper)\n",
    "data[\"bedrooms\"] = data[\"bedrooms\"].map(bedroom_mapper)\n",
    "data[\"rating\"] = data[\"rating\"].map(rating_mapper)\n",
    "data[\"last_review\"] =  data[\"last_review\"].map(np.datetime64) # Zmapowałem też date ostatniej opinii do przeznaczonego do tego typu\n",
    "\n",
    "data"
   ],
   "metadata": {
    "collapsed": false,
    "ExecuteTime": {
     "end_time": "2024-05-31T18:06:44.395337Z",
     "start_time": "2024-05-31T18:06:44.285876Z"
    }
   },
   "id": "e363c58e6f81885c",
   "execution_count": 3
  },
  {
   "cell_type": "markdown",
   "source": [
    "### usuwamy kolumny"
   ],
   "metadata": {
    "collapsed": false
   },
   "id": "85474b91bfc36021"
  },
  {
   "cell_type": "code",
   "outputs": [
    {
     "data": {
      "text/plain": "        latitude  longitude  room_type  price  minimum_nights  \\\n0      40.702620 -73.898000          3  471.0              30   \n1      40.720270 -73.955130          3  225.0              30   \n2      40.686700 -73.948560          1   80.0              30   \n3      40.732210 -73.986890          3   83.0              30   \n4      40.668600 -73.987230          3   90.0              30   \n...          ...        ...        ...    ...             ...   \n16601  40.686001 -73.943693          3  135.0              30   \n16602  40.745100 -73.864880          1   68.0              30   \n16603  40.867770 -73.860180          3  100.0              30   \n16604  40.830791 -73.949509          1   50.0              30   \n16605  40.762250 -73.978280          3  130.0              30   \n\n       number_of_reviews  last_review  reviews_per_month  \\\n0                      1     0.898937               0.07   \n1                     52     0.973081               0.49   \n2                    101     0.988430               1.00   \n3                      2     0.965289               0.12   \n4                    479     0.862102               2.90   \n...                  ...          ...                ...   \n16601                 15     0.914994               0.97   \n16602                 16     0.980874               2.68   \n16603                 30     0.978749               2.21   \n16604                 19     0.993861               0.21   \n16605                  2     0.948524               0.20   \n\n       calculated_host_listings_count  availability_365  license  rating  \\\n0                                   9               365        0     NaN   \n1                                   5                90        0    4.60   \n2                                   2               363        0    4.93   \n3                                  30               106        0     NaN   \n4                                   3               188        0    4.93   \n...                               ...               ...      ...     ...   \n16601                               1               262        0    4.87   \n16602                               2               180        0    4.69   \n16603                               5               365        0    4.73   \n16604                               4                42        0    4.84   \n16605                               5               365        0     NaN   \n\n       beds  baths  \n0         8      2  \n1         2      1  \n2         1      1  \n3         1      1  \n4         1      1  \n...     ...    ...  \n16601     3      1  \n16602     1      1  \n16603     1      1  \n16604     1      1  \n16605     1      1  \n\n[16606 rows x 14 columns]",
      "text/html": "<div>\n<style scoped>\n    .dataframe tbody tr th:only-of-type {\n        vertical-align: middle;\n    }\n\n    .dataframe tbody tr th {\n        vertical-align: top;\n    }\n\n    .dataframe thead th {\n        text-align: right;\n    }\n</style>\n<table border=\"1\" class=\"dataframe\">\n  <thead>\n    <tr style=\"text-align: right;\">\n      <th></th>\n      <th>latitude</th>\n      <th>longitude</th>\n      <th>room_type</th>\n      <th>price</th>\n      <th>minimum_nights</th>\n      <th>number_of_reviews</th>\n      <th>last_review</th>\n      <th>reviews_per_month</th>\n      <th>calculated_host_listings_count</th>\n      <th>availability_365</th>\n      <th>license</th>\n      <th>rating</th>\n      <th>beds</th>\n      <th>baths</th>\n    </tr>\n  </thead>\n  <tbody>\n    <tr>\n      <th>0</th>\n      <td>40.702620</td>\n      <td>-73.898000</td>\n      <td>3</td>\n      <td>471.0</td>\n      <td>30</td>\n      <td>1</td>\n      <td>0.898937</td>\n      <td>0.07</td>\n      <td>9</td>\n      <td>365</td>\n      <td>0</td>\n      <td>NaN</td>\n      <td>8</td>\n      <td>2</td>\n    </tr>\n    <tr>\n      <th>1</th>\n      <td>40.720270</td>\n      <td>-73.955130</td>\n      <td>3</td>\n      <td>225.0</td>\n      <td>30</td>\n      <td>52</td>\n      <td>0.973081</td>\n      <td>0.49</td>\n      <td>5</td>\n      <td>90</td>\n      <td>0</td>\n      <td>4.60</td>\n      <td>2</td>\n      <td>1</td>\n    </tr>\n    <tr>\n      <th>2</th>\n      <td>40.686700</td>\n      <td>-73.948560</td>\n      <td>1</td>\n      <td>80.0</td>\n      <td>30</td>\n      <td>101</td>\n      <td>0.988430</td>\n      <td>1.00</td>\n      <td>2</td>\n      <td>363</td>\n      <td>0</td>\n      <td>4.93</td>\n      <td>1</td>\n      <td>1</td>\n    </tr>\n    <tr>\n      <th>3</th>\n      <td>40.732210</td>\n      <td>-73.986890</td>\n      <td>3</td>\n      <td>83.0</td>\n      <td>30</td>\n      <td>2</td>\n      <td>0.965289</td>\n      <td>0.12</td>\n      <td>30</td>\n      <td>106</td>\n      <td>0</td>\n      <td>NaN</td>\n      <td>1</td>\n      <td>1</td>\n    </tr>\n    <tr>\n      <th>4</th>\n      <td>40.668600</td>\n      <td>-73.987230</td>\n      <td>3</td>\n      <td>90.0</td>\n      <td>30</td>\n      <td>479</td>\n      <td>0.862102</td>\n      <td>2.90</td>\n      <td>3</td>\n      <td>188</td>\n      <td>0</td>\n      <td>4.93</td>\n      <td>1</td>\n      <td>1</td>\n    </tr>\n    <tr>\n      <th>...</th>\n      <td>...</td>\n      <td>...</td>\n      <td>...</td>\n      <td>...</td>\n      <td>...</td>\n      <td>...</td>\n      <td>...</td>\n      <td>...</td>\n      <td>...</td>\n      <td>...</td>\n      <td>...</td>\n      <td>...</td>\n      <td>...</td>\n      <td>...</td>\n    </tr>\n    <tr>\n      <th>16601</th>\n      <td>40.686001</td>\n      <td>-73.943693</td>\n      <td>3</td>\n      <td>135.0</td>\n      <td>30</td>\n      <td>15</td>\n      <td>0.914994</td>\n      <td>0.97</td>\n      <td>1</td>\n      <td>262</td>\n      <td>0</td>\n      <td>4.87</td>\n      <td>3</td>\n      <td>1</td>\n    </tr>\n    <tr>\n      <th>16602</th>\n      <td>40.745100</td>\n      <td>-73.864880</td>\n      <td>1</td>\n      <td>68.0</td>\n      <td>30</td>\n      <td>16</td>\n      <td>0.980874</td>\n      <td>2.68</td>\n      <td>2</td>\n      <td>180</td>\n      <td>0</td>\n      <td>4.69</td>\n      <td>1</td>\n      <td>1</td>\n    </tr>\n    <tr>\n      <th>16603</th>\n      <td>40.867770</td>\n      <td>-73.860180</td>\n      <td>3</td>\n      <td>100.0</td>\n      <td>30</td>\n      <td>30</td>\n      <td>0.978749</td>\n      <td>2.21</td>\n      <td>5</td>\n      <td>365</td>\n      <td>0</td>\n      <td>4.73</td>\n      <td>1</td>\n      <td>1</td>\n    </tr>\n    <tr>\n      <th>16604</th>\n      <td>40.830791</td>\n      <td>-73.949509</td>\n      <td>1</td>\n      <td>50.0</td>\n      <td>30</td>\n      <td>19</td>\n      <td>0.993861</td>\n      <td>0.21</td>\n      <td>4</td>\n      <td>42</td>\n      <td>0</td>\n      <td>4.84</td>\n      <td>1</td>\n      <td>1</td>\n    </tr>\n    <tr>\n      <th>16605</th>\n      <td>40.762250</td>\n      <td>-73.978280</td>\n      <td>3</td>\n      <td>130.0</td>\n      <td>30</td>\n      <td>2</td>\n      <td>0.948524</td>\n      <td>0.20</td>\n      <td>5</td>\n      <td>365</td>\n      <td>0</td>\n      <td>NaN</td>\n      <td>1</td>\n      <td>1</td>\n    </tr>\n  </tbody>\n</table>\n<p>16606 rows × 14 columns</p>\n</div>"
     },
     "execution_count": 7,
     "metadata": {},
     "output_type": "execute_result"
    }
   ],
   "source": [
    "data = data.drop([\"id\", \"name\", \"host_id\", \"host_name\", \"neighbourhood\", \"neighbourhood_group\", \"number_of_reviews_ltm\", \"bedrooms\"], axis = 1)\n",
    "data"
   ],
   "metadata": {
    "collapsed": false,
    "ExecuteTime": {
     "end_time": "2024-05-31T18:17:15.928179Z",
     "start_time": "2024-05-31T18:17:15.907070Z"
    }
   },
   "id": "17bc6d97314b9748",
   "execution_count": 7
  },
  {
   "cell_type": "markdown",
   "source": [
    "### ordinal encoding dla 'room_type'"
   ],
   "metadata": {
    "collapsed": false
   },
   "id": "1d55c4f0ee61fdb4"
  },
  {
   "cell_type": "code",
   "outputs": [
    {
     "data": {
      "text/plain": "        latitude  longitude  room_type  price  minimum_nights  \\\n0      40.702620 -73.898000          3  471.0              30   \n1      40.720270 -73.955130          3  225.0              30   \n2      40.686700 -73.948560          1   80.0              30   \n3      40.732210 -73.986890          3   83.0              30   \n4      40.668600 -73.987230          3   90.0              30   \n...          ...        ...        ...    ...             ...   \n16601  40.686001 -73.943693          3  135.0              30   \n16602  40.745100 -73.864880          1   68.0              30   \n16603  40.867770 -73.860180          3  100.0              30   \n16604  40.830791 -73.949509          1   50.0              30   \n16605  40.762250 -73.978280          3  130.0              30   \n\n       number_of_reviews last_review  reviews_per_month  \\\n0                      1  2022-11-03               0.07   \n1                     52  2023-09-13               0.49   \n2                    101  2023-11-17               1.00   \n3                      2  2023-08-11               0.12   \n4                    479  2022-05-31               2.90   \n...                  ...         ...                ...   \n16601                 15  2023-01-10               0.97   \n16602                 16  2023-10-16               2.68   \n16603                 30  2023-10-07               2.21   \n16604                 19  2023-12-10               0.21   \n16605                  2  2023-06-01               0.20   \n\n       calculated_host_listings_count  availability_365  \\\n0                                   9               365   \n1                                   5                90   \n2                                   2               363   \n3                                  30               106   \n4                                   3               188   \n...                               ...               ...   \n16601                               1               262   \n16602                               2               180   \n16603                               5               365   \n16604                               4                42   \n16605                               5               365   \n\n       number_of_reviews_ltm  license  rating  bedrooms  beds  baths  \n0                          0        0     NaN         5     8      2  \n1                          7        0    4.60         2     2      1  \n2                         12        0    4.93         1     1      1  \n3                          1        0     NaN         1     1      1  \n4                          0        0    4.93         1     1      1  \n...                      ...      ...     ...       ...   ...    ...  \n16601                      1        0    4.87         3     3      1  \n16602                     16        0    4.69         1     1      1  \n16603                     24        0    4.73         1     1      1  \n16604                      1        0    4.84         1     1      1  \n16605                      2        0     NaN         1     1      1  \n\n[16606 rows x 16 columns]",
      "text/html": "<div>\n<style scoped>\n    .dataframe tbody tr th:only-of-type {\n        vertical-align: middle;\n    }\n\n    .dataframe tbody tr th {\n        vertical-align: top;\n    }\n\n    .dataframe thead th {\n        text-align: right;\n    }\n</style>\n<table border=\"1\" class=\"dataframe\">\n  <thead>\n    <tr style=\"text-align: right;\">\n      <th></th>\n      <th>latitude</th>\n      <th>longitude</th>\n      <th>room_type</th>\n      <th>price</th>\n      <th>minimum_nights</th>\n      <th>number_of_reviews</th>\n      <th>last_review</th>\n      <th>reviews_per_month</th>\n      <th>calculated_host_listings_count</th>\n      <th>availability_365</th>\n      <th>number_of_reviews_ltm</th>\n      <th>license</th>\n      <th>rating</th>\n      <th>bedrooms</th>\n      <th>beds</th>\n      <th>baths</th>\n    </tr>\n  </thead>\n  <tbody>\n    <tr>\n      <th>0</th>\n      <td>40.702620</td>\n      <td>-73.898000</td>\n      <td>3</td>\n      <td>471.0</td>\n      <td>30</td>\n      <td>1</td>\n      <td>2022-11-03</td>\n      <td>0.07</td>\n      <td>9</td>\n      <td>365</td>\n      <td>0</td>\n      <td>0</td>\n      <td>NaN</td>\n      <td>5</td>\n      <td>8</td>\n      <td>2</td>\n    </tr>\n    <tr>\n      <th>1</th>\n      <td>40.720270</td>\n      <td>-73.955130</td>\n      <td>3</td>\n      <td>225.0</td>\n      <td>30</td>\n      <td>52</td>\n      <td>2023-09-13</td>\n      <td>0.49</td>\n      <td>5</td>\n      <td>90</td>\n      <td>7</td>\n      <td>0</td>\n      <td>4.60</td>\n      <td>2</td>\n      <td>2</td>\n      <td>1</td>\n    </tr>\n    <tr>\n      <th>2</th>\n      <td>40.686700</td>\n      <td>-73.948560</td>\n      <td>1</td>\n      <td>80.0</td>\n      <td>30</td>\n      <td>101</td>\n      <td>2023-11-17</td>\n      <td>1.00</td>\n      <td>2</td>\n      <td>363</td>\n      <td>12</td>\n      <td>0</td>\n      <td>4.93</td>\n      <td>1</td>\n      <td>1</td>\n      <td>1</td>\n    </tr>\n    <tr>\n      <th>3</th>\n      <td>40.732210</td>\n      <td>-73.986890</td>\n      <td>3</td>\n      <td>83.0</td>\n      <td>30</td>\n      <td>2</td>\n      <td>2023-08-11</td>\n      <td>0.12</td>\n      <td>30</td>\n      <td>106</td>\n      <td>1</td>\n      <td>0</td>\n      <td>NaN</td>\n      <td>1</td>\n      <td>1</td>\n      <td>1</td>\n    </tr>\n    <tr>\n      <th>4</th>\n      <td>40.668600</td>\n      <td>-73.987230</td>\n      <td>3</td>\n      <td>90.0</td>\n      <td>30</td>\n      <td>479</td>\n      <td>2022-05-31</td>\n      <td>2.90</td>\n      <td>3</td>\n      <td>188</td>\n      <td>0</td>\n      <td>0</td>\n      <td>4.93</td>\n      <td>1</td>\n      <td>1</td>\n      <td>1</td>\n    </tr>\n    <tr>\n      <th>...</th>\n      <td>...</td>\n      <td>...</td>\n      <td>...</td>\n      <td>...</td>\n      <td>...</td>\n      <td>...</td>\n      <td>...</td>\n      <td>...</td>\n      <td>...</td>\n      <td>...</td>\n      <td>...</td>\n      <td>...</td>\n      <td>...</td>\n      <td>...</td>\n      <td>...</td>\n      <td>...</td>\n    </tr>\n    <tr>\n      <th>16601</th>\n      <td>40.686001</td>\n      <td>-73.943693</td>\n      <td>3</td>\n      <td>135.0</td>\n      <td>30</td>\n      <td>15</td>\n      <td>2023-01-10</td>\n      <td>0.97</td>\n      <td>1</td>\n      <td>262</td>\n      <td>1</td>\n      <td>0</td>\n      <td>4.87</td>\n      <td>3</td>\n      <td>3</td>\n      <td>1</td>\n    </tr>\n    <tr>\n      <th>16602</th>\n      <td>40.745100</td>\n      <td>-73.864880</td>\n      <td>1</td>\n      <td>68.0</td>\n      <td>30</td>\n      <td>16</td>\n      <td>2023-10-16</td>\n      <td>2.68</td>\n      <td>2</td>\n      <td>180</td>\n      <td>16</td>\n      <td>0</td>\n      <td>4.69</td>\n      <td>1</td>\n      <td>1</td>\n      <td>1</td>\n    </tr>\n    <tr>\n      <th>16603</th>\n      <td>40.867770</td>\n      <td>-73.860180</td>\n      <td>3</td>\n      <td>100.0</td>\n      <td>30</td>\n      <td>30</td>\n      <td>2023-10-07</td>\n      <td>2.21</td>\n      <td>5</td>\n      <td>365</td>\n      <td>24</td>\n      <td>0</td>\n      <td>4.73</td>\n      <td>1</td>\n      <td>1</td>\n      <td>1</td>\n    </tr>\n    <tr>\n      <th>16604</th>\n      <td>40.830791</td>\n      <td>-73.949509</td>\n      <td>1</td>\n      <td>50.0</td>\n      <td>30</td>\n      <td>19</td>\n      <td>2023-12-10</td>\n      <td>0.21</td>\n      <td>4</td>\n      <td>42</td>\n      <td>1</td>\n      <td>0</td>\n      <td>4.84</td>\n      <td>1</td>\n      <td>1</td>\n      <td>1</td>\n    </tr>\n    <tr>\n      <th>16605</th>\n      <td>40.762250</td>\n      <td>-73.978280</td>\n      <td>3</td>\n      <td>130.0</td>\n      <td>30</td>\n      <td>2</td>\n      <td>2023-06-01</td>\n      <td>0.20</td>\n      <td>5</td>\n      <td>365</td>\n      <td>2</td>\n      <td>0</td>\n      <td>NaN</td>\n      <td>1</td>\n      <td>1</td>\n      <td>1</td>\n    </tr>\n  </tbody>\n</table>\n<p>16606 rows × 16 columns</p>\n</div>"
     },
     "execution_count": 5,
     "metadata": {},
     "output_type": "execute_result"
    }
   ],
   "source": [
    "room_type_map = {\n",
    "    'Entire home/apt' : 3,\n",
    "    \"Hotel room\": 2,\n",
    "    \"Private room\": 1,\n",
    "    \"Shared room\": 0\n",
    "}\n",
    "data[\"room_type\"] = data[\"room_type\"].map(room_type_map)\n",
    "data"
   ],
   "metadata": {
    "collapsed": false,
    "ExecuteTime": {
     "end_time": "2024-05-31T18:07:17.435021Z",
     "start_time": "2024-05-31T18:07:17.407619Z"
    }
   },
   "id": "76aaa43be966ade3",
   "execution_count": 5
  },
  {
   "cell_type": "markdown",
   "source": [
    "### Kodowanie daty 'last_review'"
   ],
   "metadata": {
    "collapsed": false
   },
   "id": "4f1f978debd9d1d6"
  },
  {
   "cell_type": "code",
   "outputs": [
    {
     "data": {
      "text/plain": "        latitude  longitude  room_type  price  minimum_nights  \\\n0      40.702620 -73.898000          3  471.0              30   \n1      40.720270 -73.955130          3  225.0              30   \n2      40.686700 -73.948560          1   80.0              30   \n3      40.732210 -73.986890          3   83.0              30   \n4      40.668600 -73.987230          3   90.0              30   \n...          ...        ...        ...    ...             ...   \n16601  40.686001 -73.943693          3  135.0              30   \n16602  40.745100 -73.864880          1   68.0              30   \n16603  40.867770 -73.860180          3  100.0              30   \n16604  40.830791 -73.949509          1   50.0              30   \n16605  40.762250 -73.978280          3  130.0              30   \n\n       number_of_reviews  last_review  reviews_per_month  \\\n0                      1     0.898937               0.07   \n1                     52     0.973081               0.49   \n2                    101     0.988430               1.00   \n3                      2     0.965289               0.12   \n4                    479     0.862102               2.90   \n...                  ...          ...                ...   \n16601                 15     0.914994               0.97   \n16602                 16     0.980874               2.68   \n16603                 30     0.978749               2.21   \n16604                 19     0.993861               0.21   \n16605                  2     0.948524               0.20   \n\n       calculated_host_listings_count  availability_365  \\\n0                                   9               365   \n1                                   5                90   \n2                                   2               363   \n3                                  30               106   \n4                                   3               188   \n...                               ...               ...   \n16601                               1               262   \n16602                               2               180   \n16603                               5               365   \n16604                               4                42   \n16605                               5               365   \n\n       number_of_reviews_ltm  license  rating  bedrooms  beds  baths  \n0                          0        0     NaN         5     8      2  \n1                          7        0    4.60         2     2      1  \n2                         12        0    4.93         1     1      1  \n3                          1        0     NaN         1     1      1  \n4                          0        0    4.93         1     1      1  \n...                      ...      ...     ...       ...   ...    ...  \n16601                      1        0    4.87         3     3      1  \n16602                     16        0    4.69         1     1      1  \n16603                     24        0    4.73         1     1      1  \n16604                      1        0    4.84         1     1      1  \n16605                      2        0     NaN         1     1      1  \n\n[16606 rows x 16 columns]",
      "text/html": "<div>\n<style scoped>\n    .dataframe tbody tr th:only-of-type {\n        vertical-align: middle;\n    }\n\n    .dataframe tbody tr th {\n        vertical-align: top;\n    }\n\n    .dataframe thead th {\n        text-align: right;\n    }\n</style>\n<table border=\"1\" class=\"dataframe\">\n  <thead>\n    <tr style=\"text-align: right;\">\n      <th></th>\n      <th>latitude</th>\n      <th>longitude</th>\n      <th>room_type</th>\n      <th>price</th>\n      <th>minimum_nights</th>\n      <th>number_of_reviews</th>\n      <th>last_review</th>\n      <th>reviews_per_month</th>\n      <th>calculated_host_listings_count</th>\n      <th>availability_365</th>\n      <th>number_of_reviews_ltm</th>\n      <th>license</th>\n      <th>rating</th>\n      <th>bedrooms</th>\n      <th>beds</th>\n      <th>baths</th>\n    </tr>\n  </thead>\n  <tbody>\n    <tr>\n      <th>0</th>\n      <td>40.702620</td>\n      <td>-73.898000</td>\n      <td>3</td>\n      <td>471.0</td>\n      <td>30</td>\n      <td>1</td>\n      <td>0.898937</td>\n      <td>0.07</td>\n      <td>9</td>\n      <td>365</td>\n      <td>0</td>\n      <td>0</td>\n      <td>NaN</td>\n      <td>5</td>\n      <td>8</td>\n      <td>2</td>\n    </tr>\n    <tr>\n      <th>1</th>\n      <td>40.720270</td>\n      <td>-73.955130</td>\n      <td>3</td>\n      <td>225.0</td>\n      <td>30</td>\n      <td>52</td>\n      <td>0.973081</td>\n      <td>0.49</td>\n      <td>5</td>\n      <td>90</td>\n      <td>7</td>\n      <td>0</td>\n      <td>4.60</td>\n      <td>2</td>\n      <td>2</td>\n      <td>1</td>\n    </tr>\n    <tr>\n      <th>2</th>\n      <td>40.686700</td>\n      <td>-73.948560</td>\n      <td>1</td>\n      <td>80.0</td>\n      <td>30</td>\n      <td>101</td>\n      <td>0.988430</td>\n      <td>1.00</td>\n      <td>2</td>\n      <td>363</td>\n      <td>12</td>\n      <td>0</td>\n      <td>4.93</td>\n      <td>1</td>\n      <td>1</td>\n      <td>1</td>\n    </tr>\n    <tr>\n      <th>3</th>\n      <td>40.732210</td>\n      <td>-73.986890</td>\n      <td>3</td>\n      <td>83.0</td>\n      <td>30</td>\n      <td>2</td>\n      <td>0.965289</td>\n      <td>0.12</td>\n      <td>30</td>\n      <td>106</td>\n      <td>1</td>\n      <td>0</td>\n      <td>NaN</td>\n      <td>1</td>\n      <td>1</td>\n      <td>1</td>\n    </tr>\n    <tr>\n      <th>4</th>\n      <td>40.668600</td>\n      <td>-73.987230</td>\n      <td>3</td>\n      <td>90.0</td>\n      <td>30</td>\n      <td>479</td>\n      <td>0.862102</td>\n      <td>2.90</td>\n      <td>3</td>\n      <td>188</td>\n      <td>0</td>\n      <td>0</td>\n      <td>4.93</td>\n      <td>1</td>\n      <td>1</td>\n      <td>1</td>\n    </tr>\n    <tr>\n      <th>...</th>\n      <td>...</td>\n      <td>...</td>\n      <td>...</td>\n      <td>...</td>\n      <td>...</td>\n      <td>...</td>\n      <td>...</td>\n      <td>...</td>\n      <td>...</td>\n      <td>...</td>\n      <td>...</td>\n      <td>...</td>\n      <td>...</td>\n      <td>...</td>\n      <td>...</td>\n      <td>...</td>\n    </tr>\n    <tr>\n      <th>16601</th>\n      <td>40.686001</td>\n      <td>-73.943693</td>\n      <td>3</td>\n      <td>135.0</td>\n      <td>30</td>\n      <td>15</td>\n      <td>0.914994</td>\n      <td>0.97</td>\n      <td>1</td>\n      <td>262</td>\n      <td>1</td>\n      <td>0</td>\n      <td>4.87</td>\n      <td>3</td>\n      <td>3</td>\n      <td>1</td>\n    </tr>\n    <tr>\n      <th>16602</th>\n      <td>40.745100</td>\n      <td>-73.864880</td>\n      <td>1</td>\n      <td>68.0</td>\n      <td>30</td>\n      <td>16</td>\n      <td>0.980874</td>\n      <td>2.68</td>\n      <td>2</td>\n      <td>180</td>\n      <td>16</td>\n      <td>0</td>\n      <td>4.69</td>\n      <td>1</td>\n      <td>1</td>\n      <td>1</td>\n    </tr>\n    <tr>\n      <th>16603</th>\n      <td>40.867770</td>\n      <td>-73.860180</td>\n      <td>3</td>\n      <td>100.0</td>\n      <td>30</td>\n      <td>30</td>\n      <td>0.978749</td>\n      <td>2.21</td>\n      <td>5</td>\n      <td>365</td>\n      <td>24</td>\n      <td>0</td>\n      <td>4.73</td>\n      <td>1</td>\n      <td>1</td>\n      <td>1</td>\n    </tr>\n    <tr>\n      <th>16604</th>\n      <td>40.830791</td>\n      <td>-73.949509</td>\n      <td>1</td>\n      <td>50.0</td>\n      <td>30</td>\n      <td>19</td>\n      <td>0.993861</td>\n      <td>0.21</td>\n      <td>4</td>\n      <td>42</td>\n      <td>1</td>\n      <td>0</td>\n      <td>4.84</td>\n      <td>1</td>\n      <td>1</td>\n      <td>1</td>\n    </tr>\n    <tr>\n      <th>16605</th>\n      <td>40.762250</td>\n      <td>-73.978280</td>\n      <td>3</td>\n      <td>130.0</td>\n      <td>30</td>\n      <td>2</td>\n      <td>0.948524</td>\n      <td>0.20</td>\n      <td>5</td>\n      <td>365</td>\n      <td>2</td>\n      <td>0</td>\n      <td>NaN</td>\n      <td>1</td>\n      <td>1</td>\n      <td>1</td>\n    </tr>\n  </tbody>\n</table>\n<p>16606 rows × 16 columns</p>\n</div>"
     },
     "execution_count": 6,
     "metadata": {},
     "output_type": "execute_result"
    }
   ],
   "source": [
    "new_review = data[\"last_review\"].apply(lambda x: x.timestamp())\n",
    "a = new_review.min()\n",
    "b = new_review.max()\n",
    "new_review = new_review.apply(lambda x: (x - a) / (b - a))\n",
    "data[\"last_review\"] = new_review\n",
    "data"
   ],
   "metadata": {
    "collapsed": false,
    "ExecuteTime": {
     "end_time": "2024-05-31T18:10:49.323886Z",
     "start_time": "2024-05-31T18:10:49.080793Z"
    }
   },
   "id": "9eb782489b8d77d6",
   "execution_count": 6
  },
  {
   "cell_type": "markdown",
   "source": [
    "### inputacja nanow w ratingu"
   ],
   "metadata": {
    "collapsed": false
   },
   "id": "867f9d73106575f2"
  },
  {
   "cell_type": "code",
   "outputs": [],
   "source": [
    "from sklearn.linear_model import LinearRegression\n",
    "df_to_pred = data.copy()\n",
    "# Te dane będziemy musieli uzupełnic\n",
    "to_fill = df_to_pred[df_to_pred['rating'].isna()]\n",
    "# Na tych danych wyszkolimy nasz LinearRegression model\n",
    "filled = data[df_to_pred.index.map(lambda x: x not in to_fill.index.to_numpy()).to_numpy()]\n",
    "#\n",
    "to_fill = to_fill.reset_index(drop = True)\n",
    "filled = filled.reset_index(drop = True)\n",
    "# Szkolimy model regresji liniowej\n",
    "X = filled.drop(\"rating\", axis = 1)\n",
    "y = filled[\"rating\"]\n",
    "lr = LinearRegression()\n",
    "lr.fit(X, y)\n",
    "new_rating = lr.predict(to_fill.drop(\"rating\", axis = 1))\n",
    "pd.Series(new_rating)\n",
    "# Wypełniamy nany\n",
    "to_fill[\"rating\"] = new_rating"
   ],
   "metadata": {
    "collapsed": false,
    "ExecuteTime": {
     "end_time": "2024-05-31T18:21:16.056376Z",
     "start_time": "2024-05-31T18:21:14.525047Z"
    }
   },
   "id": "46a9a668b448685b",
   "execution_count": 8
  },
  {
   "cell_type": "code",
   "outputs": [
    {
     "data": {
      "text/plain": "0"
     },
     "execution_count": 9,
     "metadata": {},
     "output_type": "execute_result"
    }
   ],
   "source": [
    "#sprawdzamy\n",
    "to_fill['rating'].isna().sum()"
   ],
   "metadata": {
    "collapsed": false,
    "ExecuteTime": {
     "end_time": "2024-05-31T18:21:17.776055Z",
     "start_time": "2024-05-31T18:21:17.768332Z"
    }
   },
   "id": "33afee19dc7f14e1",
   "execution_count": 9
  },
  {
   "cell_type": "code",
   "outputs": [
    {
     "data": {
      "text/plain": "        latitude  longitude  room_type  price  minimum_nights  \\\n0      40.702620 -73.898000          3  471.0              30   \n1      40.732210 -73.986890          3   83.0              30   \n2      40.684210 -73.907890          1  150.0              30   \n3      40.874690 -73.901690          1  200.0              30   \n4      40.671320 -73.960900          1   32.0              30   \n...          ...        ...        ...    ...             ...   \n16601  40.745330 -73.919580          1   55.0              30   \n16602  40.686001 -73.943693          3  135.0              30   \n16603  40.745100 -73.864880          1   68.0              30   \n16604  40.867770 -73.860180          3  100.0              30   \n16605  40.830791 -73.949509          1   50.0              30   \n\n       number_of_reviews  last_review  reviews_per_month  \\\n0                      1     0.898937               0.07   \n1                      2     0.965289               0.12   \n2                      1     0.594097               0.02   \n3                      1     0.481700               0.01   \n4                      1     0.783707               0.03   \n...                  ...          ...                ...   \n16601                  3     0.983943               0.21   \n16602                 15     0.914994               0.97   \n16603                 16     0.980874               2.68   \n16604                 30     0.978749               2.21   \n16605                 19     0.993861               0.21   \n\n       calculated_host_listings_count  availability_365  license    rating  \\\n0                                   9               365        0  4.678690   \n1                                  30               106        0  4.742355   \n2                                   1                 0        0  4.670132   \n3                                   2                 0        0  4.593371   \n4                                   1               322        0  4.679929   \n...                               ...               ...      ...       ...   \n16601                               1               364        0  5.000000   \n16602                               1               262        0  4.870000   \n16603                               2               180        0  4.690000   \n16604                               5               365        0  4.730000   \n16605                               4                42        0  4.840000   \n\n       beds  baths  \n0         8      2  \n1         1      1  \n2         1      1  \n3         1      1  \n4         1      1  \n...     ...    ...  \n16601     1      1  \n16602     3      1  \n16603     1      1  \n16604     1      1  \n16605     1      1  \n\n[16606 rows x 14 columns]",
      "text/html": "<div>\n<style scoped>\n    .dataframe tbody tr th:only-of-type {\n        vertical-align: middle;\n    }\n\n    .dataframe tbody tr th {\n        vertical-align: top;\n    }\n\n    .dataframe thead th {\n        text-align: right;\n    }\n</style>\n<table border=\"1\" class=\"dataframe\">\n  <thead>\n    <tr style=\"text-align: right;\">\n      <th></th>\n      <th>latitude</th>\n      <th>longitude</th>\n      <th>room_type</th>\n      <th>price</th>\n      <th>minimum_nights</th>\n      <th>number_of_reviews</th>\n      <th>last_review</th>\n      <th>reviews_per_month</th>\n      <th>calculated_host_listings_count</th>\n      <th>availability_365</th>\n      <th>license</th>\n      <th>rating</th>\n      <th>beds</th>\n      <th>baths</th>\n    </tr>\n  </thead>\n  <tbody>\n    <tr>\n      <th>0</th>\n      <td>40.702620</td>\n      <td>-73.898000</td>\n      <td>3</td>\n      <td>471.0</td>\n      <td>30</td>\n      <td>1</td>\n      <td>0.898937</td>\n      <td>0.07</td>\n      <td>9</td>\n      <td>365</td>\n      <td>0</td>\n      <td>4.678690</td>\n      <td>8</td>\n      <td>2</td>\n    </tr>\n    <tr>\n      <th>1</th>\n      <td>40.732210</td>\n      <td>-73.986890</td>\n      <td>3</td>\n      <td>83.0</td>\n      <td>30</td>\n      <td>2</td>\n      <td>0.965289</td>\n      <td>0.12</td>\n      <td>30</td>\n      <td>106</td>\n      <td>0</td>\n      <td>4.742355</td>\n      <td>1</td>\n      <td>1</td>\n    </tr>\n    <tr>\n      <th>2</th>\n      <td>40.684210</td>\n      <td>-73.907890</td>\n      <td>1</td>\n      <td>150.0</td>\n      <td>30</td>\n      <td>1</td>\n      <td>0.594097</td>\n      <td>0.02</td>\n      <td>1</td>\n      <td>0</td>\n      <td>0</td>\n      <td>4.670132</td>\n      <td>1</td>\n      <td>1</td>\n    </tr>\n    <tr>\n      <th>3</th>\n      <td>40.874690</td>\n      <td>-73.901690</td>\n      <td>1</td>\n      <td>200.0</td>\n      <td>30</td>\n      <td>1</td>\n      <td>0.481700</td>\n      <td>0.01</td>\n      <td>2</td>\n      <td>0</td>\n      <td>0</td>\n      <td>4.593371</td>\n      <td>1</td>\n      <td>1</td>\n    </tr>\n    <tr>\n      <th>4</th>\n      <td>40.671320</td>\n      <td>-73.960900</td>\n      <td>1</td>\n      <td>32.0</td>\n      <td>30</td>\n      <td>1</td>\n      <td>0.783707</td>\n      <td>0.03</td>\n      <td>1</td>\n      <td>322</td>\n      <td>0</td>\n      <td>4.679929</td>\n      <td>1</td>\n      <td>1</td>\n    </tr>\n    <tr>\n      <th>...</th>\n      <td>...</td>\n      <td>...</td>\n      <td>...</td>\n      <td>...</td>\n      <td>...</td>\n      <td>...</td>\n      <td>...</td>\n      <td>...</td>\n      <td>...</td>\n      <td>...</td>\n      <td>...</td>\n      <td>...</td>\n      <td>...</td>\n      <td>...</td>\n    </tr>\n    <tr>\n      <th>16601</th>\n      <td>40.745330</td>\n      <td>-73.919580</td>\n      <td>1</td>\n      <td>55.0</td>\n      <td>30</td>\n      <td>3</td>\n      <td>0.983943</td>\n      <td>0.21</td>\n      <td>1</td>\n      <td>364</td>\n      <td>0</td>\n      <td>5.000000</td>\n      <td>1</td>\n      <td>1</td>\n    </tr>\n    <tr>\n      <th>16602</th>\n      <td>40.686001</td>\n      <td>-73.943693</td>\n      <td>3</td>\n      <td>135.0</td>\n      <td>30</td>\n      <td>15</td>\n      <td>0.914994</td>\n      <td>0.97</td>\n      <td>1</td>\n      <td>262</td>\n      <td>0</td>\n      <td>4.870000</td>\n      <td>3</td>\n      <td>1</td>\n    </tr>\n    <tr>\n      <th>16603</th>\n      <td>40.745100</td>\n      <td>-73.864880</td>\n      <td>1</td>\n      <td>68.0</td>\n      <td>30</td>\n      <td>16</td>\n      <td>0.980874</td>\n      <td>2.68</td>\n      <td>2</td>\n      <td>180</td>\n      <td>0</td>\n      <td>4.690000</td>\n      <td>1</td>\n      <td>1</td>\n    </tr>\n    <tr>\n      <th>16604</th>\n      <td>40.867770</td>\n      <td>-73.860180</td>\n      <td>3</td>\n      <td>100.0</td>\n      <td>30</td>\n      <td>30</td>\n      <td>0.978749</td>\n      <td>2.21</td>\n      <td>5</td>\n      <td>365</td>\n      <td>0</td>\n      <td>4.730000</td>\n      <td>1</td>\n      <td>1</td>\n    </tr>\n    <tr>\n      <th>16605</th>\n      <td>40.830791</td>\n      <td>-73.949509</td>\n      <td>1</td>\n      <td>50.0</td>\n      <td>30</td>\n      <td>19</td>\n      <td>0.993861</td>\n      <td>0.21</td>\n      <td>4</td>\n      <td>42</td>\n      <td>0</td>\n      <td>4.840000</td>\n      <td>1</td>\n      <td>1</td>\n    </tr>\n  </tbody>\n</table>\n<p>16606 rows × 14 columns</p>\n</div>"
     },
     "execution_count": 12,
     "metadata": {},
     "output_type": "execute_result"
    }
   ],
   "source": [
    "# Pozostaje zatem przepisac ramke jako nowa df\n",
    "df = pd.concat([to_fill, filled], axis = 0).reset_index(drop = True)\n",
    "df"
   ],
   "metadata": {
    "collapsed": false,
    "ExecuteTime": {
     "end_time": "2024-05-31T18:32:38.930466Z",
     "start_time": "2024-05-31T18:32:38.903771Z"
    }
   },
   "id": "aa7d45d4e6ab799f",
   "execution_count": 12
  },
  {
   "cell_type": "markdown",
   "source": [
    "## transforamcje danych\n",
    "Ostatecznie:\n",
    "- uzywamy PYOD do usuniecia outlierow \n",
    "- uzywami yeo-johnson (oprocz latitude, longitude, room_type, license) i pozniej min_max_scaler"
   ],
   "metadata": {
    "collapsed": false
   },
   "id": "cb70c08ca99b0ab4"
  },
  {
   "cell_type": "markdown",
   "source": [
    "### Usuwanie outlierów"
   ],
   "metadata": {
    "collapsed": false
   },
   "id": "994baf38f5df0a1c"
  },
  {
   "cell_type": "code",
   "outputs": [
    {
     "data": {
      "text/plain": "outliers\n0    15941\n1      665\nName: count, dtype: int64"
     },
     "execution_count": 17,
     "metadata": {},
     "output_type": "execute_result"
    }
   ],
   "source": [
    "# oprocz latitude, longtitude, room_type (kategoryczna), license (binarna)\n",
    "cols = df.columns.to_numpy()\n",
    "cols_to_pyod = [cols for cols in df.columns if cols not in [\"latitude\", \"longitude\", \"room_type\", \"license\"]]\n",
    "\n",
    "from pyod.models.knn import KNN\n",
    "clf = KNN(contamination=0.04)\n",
    "clf.fit(df[cols_to_pyod])\n",
    "df['outliers'] = clf.labels_\n",
    "df['outliers'].value_counts()"
   ],
   "metadata": {
    "collapsed": false,
    "ExecuteTime": {
     "end_time": "2024-05-31T18:49:48.184613Z",
     "start_time": "2024-05-31T18:49:47.679954Z"
    }
   },
   "id": "111e09ef85a4382",
   "execution_count": 17
  },
  {
   "cell_type": "code",
   "outputs": [
    {
     "data": {
      "text/plain": "        latitude  longitude  room_type  price  minimum_nights  \\\n0      40.702620 -73.898000          3  471.0              30   \n1      40.732210 -73.986890          3   83.0              30   \n2      40.684210 -73.907890          1  150.0              30   \n3      40.874690 -73.901690          1  200.0              30   \n4      40.671320 -73.960900          1   32.0              30   \n...          ...        ...        ...    ...             ...   \n16601  40.745330 -73.919580          1   55.0              30   \n16602  40.686001 -73.943693          3  135.0              30   \n16603  40.745100 -73.864880          1   68.0              30   \n16604  40.867770 -73.860180          3  100.0              30   \n16605  40.830791 -73.949509          1   50.0              30   \n\n       number_of_reviews  last_review  reviews_per_month  \\\n0                      1     0.898937               0.07   \n1                      2     0.965289               0.12   \n2                      1     0.594097               0.02   \n3                      1     0.481700               0.01   \n4                      1     0.783707               0.03   \n...                  ...          ...                ...   \n16601                  3     0.983943               0.21   \n16602                 15     0.914994               0.97   \n16603                 16     0.980874               2.68   \n16604                 30     0.978749               2.21   \n16605                 19     0.993861               0.21   \n\n       calculated_host_listings_count  availability_365  license    rating  \\\n0                                   9               365        0  4.678690   \n1                                  30               106        0  4.742355   \n2                                   1                 0        0  4.670132   \n3                                   2                 0        0  4.593371   \n4                                   1               322        0  4.679929   \n...                               ...               ...      ...       ...   \n16601                               1               364        0  5.000000   \n16602                               1               262        0  4.870000   \n16603                               2               180        0  4.690000   \n16604                               5               365        0  4.730000   \n16605                               4                42        0  4.840000   \n\n       beds  baths  \n0         8      2  \n1         1      1  \n2         1      1  \n3         1      1  \n4         1      1  \n...     ...    ...  \n16601     1      1  \n16602     3      1  \n16603     1      1  \n16604     1      1  \n16605     1      1  \n\n[15941 rows x 14 columns]",
      "text/html": "<div>\n<style scoped>\n    .dataframe tbody tr th:only-of-type {\n        vertical-align: middle;\n    }\n\n    .dataframe tbody tr th {\n        vertical-align: top;\n    }\n\n    .dataframe thead th {\n        text-align: right;\n    }\n</style>\n<table border=\"1\" class=\"dataframe\">\n  <thead>\n    <tr style=\"text-align: right;\">\n      <th></th>\n      <th>latitude</th>\n      <th>longitude</th>\n      <th>room_type</th>\n      <th>price</th>\n      <th>minimum_nights</th>\n      <th>number_of_reviews</th>\n      <th>last_review</th>\n      <th>reviews_per_month</th>\n      <th>calculated_host_listings_count</th>\n      <th>availability_365</th>\n      <th>license</th>\n      <th>rating</th>\n      <th>beds</th>\n      <th>baths</th>\n    </tr>\n  </thead>\n  <tbody>\n    <tr>\n      <th>0</th>\n      <td>40.702620</td>\n      <td>-73.898000</td>\n      <td>3</td>\n      <td>471.0</td>\n      <td>30</td>\n      <td>1</td>\n      <td>0.898937</td>\n      <td>0.07</td>\n      <td>9</td>\n      <td>365</td>\n      <td>0</td>\n      <td>4.678690</td>\n      <td>8</td>\n      <td>2</td>\n    </tr>\n    <tr>\n      <th>1</th>\n      <td>40.732210</td>\n      <td>-73.986890</td>\n      <td>3</td>\n      <td>83.0</td>\n      <td>30</td>\n      <td>2</td>\n      <td>0.965289</td>\n      <td>0.12</td>\n      <td>30</td>\n      <td>106</td>\n      <td>0</td>\n      <td>4.742355</td>\n      <td>1</td>\n      <td>1</td>\n    </tr>\n    <tr>\n      <th>2</th>\n      <td>40.684210</td>\n      <td>-73.907890</td>\n      <td>1</td>\n      <td>150.0</td>\n      <td>30</td>\n      <td>1</td>\n      <td>0.594097</td>\n      <td>0.02</td>\n      <td>1</td>\n      <td>0</td>\n      <td>0</td>\n      <td>4.670132</td>\n      <td>1</td>\n      <td>1</td>\n    </tr>\n    <tr>\n      <th>3</th>\n      <td>40.874690</td>\n      <td>-73.901690</td>\n      <td>1</td>\n      <td>200.0</td>\n      <td>30</td>\n      <td>1</td>\n      <td>0.481700</td>\n      <td>0.01</td>\n      <td>2</td>\n      <td>0</td>\n      <td>0</td>\n      <td>4.593371</td>\n      <td>1</td>\n      <td>1</td>\n    </tr>\n    <tr>\n      <th>4</th>\n      <td>40.671320</td>\n      <td>-73.960900</td>\n      <td>1</td>\n      <td>32.0</td>\n      <td>30</td>\n      <td>1</td>\n      <td>0.783707</td>\n      <td>0.03</td>\n      <td>1</td>\n      <td>322</td>\n      <td>0</td>\n      <td>4.679929</td>\n      <td>1</td>\n      <td>1</td>\n    </tr>\n    <tr>\n      <th>...</th>\n      <td>...</td>\n      <td>...</td>\n      <td>...</td>\n      <td>...</td>\n      <td>...</td>\n      <td>...</td>\n      <td>...</td>\n      <td>...</td>\n      <td>...</td>\n      <td>...</td>\n      <td>...</td>\n      <td>...</td>\n      <td>...</td>\n      <td>...</td>\n    </tr>\n    <tr>\n      <th>16601</th>\n      <td>40.745330</td>\n      <td>-73.919580</td>\n      <td>1</td>\n      <td>55.0</td>\n      <td>30</td>\n      <td>3</td>\n      <td>0.983943</td>\n      <td>0.21</td>\n      <td>1</td>\n      <td>364</td>\n      <td>0</td>\n      <td>5.000000</td>\n      <td>1</td>\n      <td>1</td>\n    </tr>\n    <tr>\n      <th>16602</th>\n      <td>40.686001</td>\n      <td>-73.943693</td>\n      <td>3</td>\n      <td>135.0</td>\n      <td>30</td>\n      <td>15</td>\n      <td>0.914994</td>\n      <td>0.97</td>\n      <td>1</td>\n      <td>262</td>\n      <td>0</td>\n      <td>4.870000</td>\n      <td>3</td>\n      <td>1</td>\n    </tr>\n    <tr>\n      <th>16603</th>\n      <td>40.745100</td>\n      <td>-73.864880</td>\n      <td>1</td>\n      <td>68.0</td>\n      <td>30</td>\n      <td>16</td>\n      <td>0.980874</td>\n      <td>2.68</td>\n      <td>2</td>\n      <td>180</td>\n      <td>0</td>\n      <td>4.690000</td>\n      <td>1</td>\n      <td>1</td>\n    </tr>\n    <tr>\n      <th>16604</th>\n      <td>40.867770</td>\n      <td>-73.860180</td>\n      <td>3</td>\n      <td>100.0</td>\n      <td>30</td>\n      <td>30</td>\n      <td>0.978749</td>\n      <td>2.21</td>\n      <td>5</td>\n      <td>365</td>\n      <td>0</td>\n      <td>4.730000</td>\n      <td>1</td>\n      <td>1</td>\n    </tr>\n    <tr>\n      <th>16605</th>\n      <td>40.830791</td>\n      <td>-73.949509</td>\n      <td>1</td>\n      <td>50.0</td>\n      <td>30</td>\n      <td>19</td>\n      <td>0.993861</td>\n      <td>0.21</td>\n      <td>4</td>\n      <td>42</td>\n      <td>0</td>\n      <td>4.840000</td>\n      <td>1</td>\n      <td>1</td>\n    </tr>\n  </tbody>\n</table>\n<p>15941 rows × 14 columns</p>\n</div>"
     },
     "execution_count": 18,
     "metadata": {},
     "output_type": "execute_result"
    }
   ],
   "source": [
    "# usuwamy outliery\n",
    "df = df[df['outliers'] == 0]\n",
    "df = df.drop('outliers', axis = 1)\n",
    "df"
   ],
   "metadata": {
    "collapsed": false,
    "ExecuteTime": {
     "end_time": "2024-05-31T18:49:59.759590Z",
     "start_time": "2024-05-31T18:49:59.730825Z"
    }
   },
   "id": "f49a4fa6d5b7ebc1",
   "execution_count": 18
  },
  {
   "cell_type": "markdown",
   "source": [
    "### yeo-johnson\n",
    "bez latitude, longitude, room_type, license"
   ],
   "metadata": {
    "collapsed": false
   },
   "id": "bc56a6f13cd5a227"
  },
  {
   "cell_type": "code",
   "outputs": [
    {
     "data": {
      "text/plain": "        latitude  longitude  room_type     price  minimum_nights  \\\n0      40.702620 -73.898000          3  4.349581        9.727349   \n1      40.732210 -73.986890          3  3.434738        9.727349   \n2      40.684210 -73.907890          1  3.767077        9.727349   \n3      40.874690 -73.901690          1  3.920853        9.727349   \n4      40.671320 -73.960900          1  2.854393        9.727349   \n...          ...        ...        ...       ...             ...   \n16601  40.745330 -73.919580          1  3.190871        9.727349   \n16602  40.686001 -73.943693          3  3.709492        9.727349   \n16603  40.745100 -73.864880          1  3.317912        9.727349   \n16604  40.867770 -73.860180          3  3.541716        9.727349   \n16605  40.830791 -73.949509          1  3.132912        9.727349   \n\n       number_of_reviews    last_review  reviews_per_month  \\\n0               0.677335   89664.099417           0.065720   \n1               1.059243  195177.092109           0.107960   \n2               0.677335    1703.996897           0.019634   \n3               0.677335     325.278516           0.009908   \n4               0.677335   21721.564540           0.029185   \n...                  ...            ...                ...   \n16601           1.324002  241739.557378           0.175758   \n16602           2.530828  108501.726723           0.513213   \n16603           2.581095  233408.940046           0.782119   \n16604           3.068367  227803.107791           0.735039   \n16605           2.714846  270640.347882           0.175758   \n\n       calculated_host_listings_count  availability_365  license  \\\n0                            1.038272         55.411318        0   \n1                            1.151104         25.683720        0   \n2                            0.529391          0.000000        0   \n3                            0.725473          0.000000        0   \n4                            0.529391         51.299637        0   \n...                               ...               ...      ...   \n16601                        0.529391         55.317979        0   \n16602                        0.529391         45.172859        0   \n16603                        0.725473         35.790661        0   \n16604                        0.941464         55.411318        0   \n16605                        0.895907         14.185656        0   \n\n             rating      beds     baths  \n0      2.761742e+08  0.382909  0.628101  \n1      3.180145e+08  0.320938  0.480012  \n2      2.709542e+08  0.320938  0.480012  \n3      2.280323e+08  0.320938  0.480012  \n4      2.769376e+08  0.320938  0.480012  \n...             ...       ...       ...  \n16601  5.541467e+08  0.320938  0.480012  \n16602  4.200070e+08  0.373762  0.480012  \n16603  2.832152e+08  0.320938  0.480012  \n16604  3.094645e+08  0.320938  0.480012  \n16605  3.936414e+08  0.320938  0.480012  \n\n[15941 rows x 14 columns]",
      "text/html": "<div>\n<style scoped>\n    .dataframe tbody tr th:only-of-type {\n        vertical-align: middle;\n    }\n\n    .dataframe tbody tr th {\n        vertical-align: top;\n    }\n\n    .dataframe thead th {\n        text-align: right;\n    }\n</style>\n<table border=\"1\" class=\"dataframe\">\n  <thead>\n    <tr style=\"text-align: right;\">\n      <th></th>\n      <th>latitude</th>\n      <th>longitude</th>\n      <th>room_type</th>\n      <th>price</th>\n      <th>minimum_nights</th>\n      <th>number_of_reviews</th>\n      <th>last_review</th>\n      <th>reviews_per_month</th>\n      <th>calculated_host_listings_count</th>\n      <th>availability_365</th>\n      <th>license</th>\n      <th>rating</th>\n      <th>beds</th>\n      <th>baths</th>\n    </tr>\n  </thead>\n  <tbody>\n    <tr>\n      <th>0</th>\n      <td>40.702620</td>\n      <td>-73.898000</td>\n      <td>3</td>\n      <td>4.349581</td>\n      <td>9.727349</td>\n      <td>0.677335</td>\n      <td>89664.099417</td>\n      <td>0.065720</td>\n      <td>1.038272</td>\n      <td>55.411318</td>\n      <td>0</td>\n      <td>2.761742e+08</td>\n      <td>0.382909</td>\n      <td>0.628101</td>\n    </tr>\n    <tr>\n      <th>1</th>\n      <td>40.732210</td>\n      <td>-73.986890</td>\n      <td>3</td>\n      <td>3.434738</td>\n      <td>9.727349</td>\n      <td>1.059243</td>\n      <td>195177.092109</td>\n      <td>0.107960</td>\n      <td>1.151104</td>\n      <td>25.683720</td>\n      <td>0</td>\n      <td>3.180145e+08</td>\n      <td>0.320938</td>\n      <td>0.480012</td>\n    </tr>\n    <tr>\n      <th>2</th>\n      <td>40.684210</td>\n      <td>-73.907890</td>\n      <td>1</td>\n      <td>3.767077</td>\n      <td>9.727349</td>\n      <td>0.677335</td>\n      <td>1703.996897</td>\n      <td>0.019634</td>\n      <td>0.529391</td>\n      <td>0.000000</td>\n      <td>0</td>\n      <td>2.709542e+08</td>\n      <td>0.320938</td>\n      <td>0.480012</td>\n    </tr>\n    <tr>\n      <th>3</th>\n      <td>40.874690</td>\n      <td>-73.901690</td>\n      <td>1</td>\n      <td>3.920853</td>\n      <td>9.727349</td>\n      <td>0.677335</td>\n      <td>325.278516</td>\n      <td>0.009908</td>\n      <td>0.725473</td>\n      <td>0.000000</td>\n      <td>0</td>\n      <td>2.280323e+08</td>\n      <td>0.320938</td>\n      <td>0.480012</td>\n    </tr>\n    <tr>\n      <th>4</th>\n      <td>40.671320</td>\n      <td>-73.960900</td>\n      <td>1</td>\n      <td>2.854393</td>\n      <td>9.727349</td>\n      <td>0.677335</td>\n      <td>21721.564540</td>\n      <td>0.029185</td>\n      <td>0.529391</td>\n      <td>51.299637</td>\n      <td>0</td>\n      <td>2.769376e+08</td>\n      <td>0.320938</td>\n      <td>0.480012</td>\n    </tr>\n    <tr>\n      <th>...</th>\n      <td>...</td>\n      <td>...</td>\n      <td>...</td>\n      <td>...</td>\n      <td>...</td>\n      <td>...</td>\n      <td>...</td>\n      <td>...</td>\n      <td>...</td>\n      <td>...</td>\n      <td>...</td>\n      <td>...</td>\n      <td>...</td>\n      <td>...</td>\n    </tr>\n    <tr>\n      <th>16601</th>\n      <td>40.745330</td>\n      <td>-73.919580</td>\n      <td>1</td>\n      <td>3.190871</td>\n      <td>9.727349</td>\n      <td>1.324002</td>\n      <td>241739.557378</td>\n      <td>0.175758</td>\n      <td>0.529391</td>\n      <td>55.317979</td>\n      <td>0</td>\n      <td>5.541467e+08</td>\n      <td>0.320938</td>\n      <td>0.480012</td>\n    </tr>\n    <tr>\n      <th>16602</th>\n      <td>40.686001</td>\n      <td>-73.943693</td>\n      <td>3</td>\n      <td>3.709492</td>\n      <td>9.727349</td>\n      <td>2.530828</td>\n      <td>108501.726723</td>\n      <td>0.513213</td>\n      <td>0.529391</td>\n      <td>45.172859</td>\n      <td>0</td>\n      <td>4.200070e+08</td>\n      <td>0.373762</td>\n      <td>0.480012</td>\n    </tr>\n    <tr>\n      <th>16603</th>\n      <td>40.745100</td>\n      <td>-73.864880</td>\n      <td>1</td>\n      <td>3.317912</td>\n      <td>9.727349</td>\n      <td>2.581095</td>\n      <td>233408.940046</td>\n      <td>0.782119</td>\n      <td>0.725473</td>\n      <td>35.790661</td>\n      <td>0</td>\n      <td>2.832152e+08</td>\n      <td>0.320938</td>\n      <td>0.480012</td>\n    </tr>\n    <tr>\n      <th>16604</th>\n      <td>40.867770</td>\n      <td>-73.860180</td>\n      <td>3</td>\n      <td>3.541716</td>\n      <td>9.727349</td>\n      <td>3.068367</td>\n      <td>227803.107791</td>\n      <td>0.735039</td>\n      <td>0.941464</td>\n      <td>55.411318</td>\n      <td>0</td>\n      <td>3.094645e+08</td>\n      <td>0.320938</td>\n      <td>0.480012</td>\n    </tr>\n    <tr>\n      <th>16605</th>\n      <td>40.830791</td>\n      <td>-73.949509</td>\n      <td>1</td>\n      <td>3.132912</td>\n      <td>9.727349</td>\n      <td>2.714846</td>\n      <td>270640.347882</td>\n      <td>0.175758</td>\n      <td>0.895907</td>\n      <td>14.185656</td>\n      <td>0</td>\n      <td>3.936414e+08</td>\n      <td>0.320938</td>\n      <td>0.480012</td>\n    </tr>\n  </tbody>\n</table>\n<p>15941 rows × 14 columns</p>\n</div>"
     },
     "execution_count": 20,
     "metadata": {},
     "output_type": "execute_result"
    }
   ],
   "source": [
    "cols_to_johnson = [cols for cols in df.columns if cols not in [\"latitude\", \"longitude\", \"room_type\", \"license\"]]\n",
    "\n",
    "from scipy.stats import yeojohnson\n",
    "# korzystanie z yeo_johhsona\n",
    "df_yeo = df.copy()\n",
    "for col in cols_to_johnson:\n",
    "    df_yeo[col], _ = yeojohnson(df[col])\n",
    "df_yeo"
   ],
   "metadata": {
    "collapsed": false,
    "ExecuteTime": {
     "end_time": "2024-05-31T18:52:47.670984Z",
     "start_time": "2024-05-31T18:52:47.417119Z"
    }
   },
   "id": "893b65ccc6519b09",
   "execution_count": 20
  },
  {
   "cell_type": "markdown",
   "source": [
    "### min_max_scaler"
   ],
   "metadata": {
    "collapsed": false
   },
   "id": "325683c8a03f5fcb"
  },
  {
   "cell_type": "code",
   "outputs": [
    {
     "data": {
      "text/plain": "       latitude  longitude  room_type     price  minimum_nights  \\\n0      0.492428   0.656185   1.000000  0.758784        0.126667   \n1      0.564453   0.490405   1.000000  0.452508        0.126667   \n2      0.447617   0.637740   0.333333  0.563770        0.126667   \n3      0.911261   0.649303   0.333333  0.615252        0.126667   \n4      0.416242   0.538876   0.333333  0.258218        0.126667   \n...         ...        ...        ...       ...             ...   \n16601  0.596388   0.615938   0.333333  0.370865        0.126667   \n16602  0.451976   0.570967   1.000000  0.544492        0.126667   \n16603  0.595828   0.717954   0.333333  0.413397        0.126667   \n16604  0.894417   0.726720   1.000000  0.488323        0.126667   \n16605  0.804408   0.560121   0.333333  0.351462        0.126667   \n\n       number_of_reviews  last_review  reviews_per_month  \\\n0               0.000000     0.309020           0.051765   \n1               0.086282     0.672663           0.090941   \n2               0.000000     0.005873           0.009021   \n3               0.000000     0.001121           0.000000   \n4               0.000000     0.074862           0.017879   \n...                  ...          ...                ...   \n16601           0.146097     0.833137           0.153823   \n16602           0.418746     0.373943           0.466805   \n16603           0.430102     0.804426           0.716210   \n16604           0.540188     0.785106           0.672544   \n16605           0.460320     0.932741           0.153823   \n\n       calculated_host_listings_count  availability_365  license    rating  \\\n0                            0.737167          1.000000      0.0  0.498299   \n1                            0.900616          0.463510      0.0  0.573815   \n2                            0.000000          0.000000      0.0  0.488878   \n3                            0.284046          0.000000      0.0  0.411410   \n4                            0.000000          0.925797      0.0  0.499677   \n...                               ...               ...      ...       ...   \n16601                        0.000000          0.998316      0.0  1.000000   \n16602                        0.000000          0.815228      0.0  0.757897   \n16603                        0.284046          0.645909      0.0  0.511007   \n16604                        0.596931          1.000000      0.0  0.558384   \n16605                        0.530937          0.256006      0.0  0.710311   \n\n           beds     baths  \n0      0.985259  0.757568  \n1      0.000000  0.578954  \n2      0.000000  0.578954  \n3      0.000000  0.578954  \n4      0.000000  0.578954  \n...         ...       ...  \n16601  0.000000  0.578954  \n16602  0.839836  0.578954  \n16603  0.000000  0.578954  \n16604  0.000000  0.578954  \n16605  0.000000  0.578954  \n\n[15941 rows x 14 columns]",
      "text/html": "<div>\n<style scoped>\n    .dataframe tbody tr th:only-of-type {\n        vertical-align: middle;\n    }\n\n    .dataframe tbody tr th {\n        vertical-align: top;\n    }\n\n    .dataframe thead th {\n        text-align: right;\n    }\n</style>\n<table border=\"1\" class=\"dataframe\">\n  <thead>\n    <tr style=\"text-align: right;\">\n      <th></th>\n      <th>latitude</th>\n      <th>longitude</th>\n      <th>room_type</th>\n      <th>price</th>\n      <th>minimum_nights</th>\n      <th>number_of_reviews</th>\n      <th>last_review</th>\n      <th>reviews_per_month</th>\n      <th>calculated_host_listings_count</th>\n      <th>availability_365</th>\n      <th>license</th>\n      <th>rating</th>\n      <th>beds</th>\n      <th>baths</th>\n    </tr>\n  </thead>\n  <tbody>\n    <tr>\n      <th>0</th>\n      <td>0.492428</td>\n      <td>0.656185</td>\n      <td>1.000000</td>\n      <td>0.758784</td>\n      <td>0.126667</td>\n      <td>0.000000</td>\n      <td>0.309020</td>\n      <td>0.051765</td>\n      <td>0.737167</td>\n      <td>1.000000</td>\n      <td>0.0</td>\n      <td>0.498299</td>\n      <td>0.985259</td>\n      <td>0.757568</td>\n    </tr>\n    <tr>\n      <th>1</th>\n      <td>0.564453</td>\n      <td>0.490405</td>\n      <td>1.000000</td>\n      <td>0.452508</td>\n      <td>0.126667</td>\n      <td>0.086282</td>\n      <td>0.672663</td>\n      <td>0.090941</td>\n      <td>0.900616</td>\n      <td>0.463510</td>\n      <td>0.0</td>\n      <td>0.573815</td>\n      <td>0.000000</td>\n      <td>0.578954</td>\n    </tr>\n    <tr>\n      <th>2</th>\n      <td>0.447617</td>\n      <td>0.637740</td>\n      <td>0.333333</td>\n      <td>0.563770</td>\n      <td>0.126667</td>\n      <td>0.000000</td>\n      <td>0.005873</td>\n      <td>0.009021</td>\n      <td>0.000000</td>\n      <td>0.000000</td>\n      <td>0.0</td>\n      <td>0.488878</td>\n      <td>0.000000</td>\n      <td>0.578954</td>\n    </tr>\n    <tr>\n      <th>3</th>\n      <td>0.911261</td>\n      <td>0.649303</td>\n      <td>0.333333</td>\n      <td>0.615252</td>\n      <td>0.126667</td>\n      <td>0.000000</td>\n      <td>0.001121</td>\n      <td>0.000000</td>\n      <td>0.284046</td>\n      <td>0.000000</td>\n      <td>0.0</td>\n      <td>0.411410</td>\n      <td>0.000000</td>\n      <td>0.578954</td>\n    </tr>\n    <tr>\n      <th>4</th>\n      <td>0.416242</td>\n      <td>0.538876</td>\n      <td>0.333333</td>\n      <td>0.258218</td>\n      <td>0.126667</td>\n      <td>0.000000</td>\n      <td>0.074862</td>\n      <td>0.017879</td>\n      <td>0.000000</td>\n      <td>0.925797</td>\n      <td>0.0</td>\n      <td>0.499677</td>\n      <td>0.000000</td>\n      <td>0.578954</td>\n    </tr>\n    <tr>\n      <th>...</th>\n      <td>...</td>\n      <td>...</td>\n      <td>...</td>\n      <td>...</td>\n      <td>...</td>\n      <td>...</td>\n      <td>...</td>\n      <td>...</td>\n      <td>...</td>\n      <td>...</td>\n      <td>...</td>\n      <td>...</td>\n      <td>...</td>\n      <td>...</td>\n    </tr>\n    <tr>\n      <th>16601</th>\n      <td>0.596388</td>\n      <td>0.615938</td>\n      <td>0.333333</td>\n      <td>0.370865</td>\n      <td>0.126667</td>\n      <td>0.146097</td>\n      <td>0.833137</td>\n      <td>0.153823</td>\n      <td>0.000000</td>\n      <td>0.998316</td>\n      <td>0.0</td>\n      <td>1.000000</td>\n      <td>0.000000</td>\n      <td>0.578954</td>\n    </tr>\n    <tr>\n      <th>16602</th>\n      <td>0.451976</td>\n      <td>0.570967</td>\n      <td>1.000000</td>\n      <td>0.544492</td>\n      <td>0.126667</td>\n      <td>0.418746</td>\n      <td>0.373943</td>\n      <td>0.466805</td>\n      <td>0.000000</td>\n      <td>0.815228</td>\n      <td>0.0</td>\n      <td>0.757897</td>\n      <td>0.839836</td>\n      <td>0.578954</td>\n    </tr>\n    <tr>\n      <th>16603</th>\n      <td>0.595828</td>\n      <td>0.717954</td>\n      <td>0.333333</td>\n      <td>0.413397</td>\n      <td>0.126667</td>\n      <td>0.430102</td>\n      <td>0.804426</td>\n      <td>0.716210</td>\n      <td>0.284046</td>\n      <td>0.645909</td>\n      <td>0.0</td>\n      <td>0.511007</td>\n      <td>0.000000</td>\n      <td>0.578954</td>\n    </tr>\n    <tr>\n      <th>16604</th>\n      <td>0.894417</td>\n      <td>0.726720</td>\n      <td>1.000000</td>\n      <td>0.488323</td>\n      <td>0.126667</td>\n      <td>0.540188</td>\n      <td>0.785106</td>\n      <td>0.672544</td>\n      <td>0.596931</td>\n      <td>1.000000</td>\n      <td>0.0</td>\n      <td>0.558384</td>\n      <td>0.000000</td>\n      <td>0.578954</td>\n    </tr>\n    <tr>\n      <th>16605</th>\n      <td>0.804408</td>\n      <td>0.560121</td>\n      <td>0.333333</td>\n      <td>0.351462</td>\n      <td>0.126667</td>\n      <td>0.460320</td>\n      <td>0.932741</td>\n      <td>0.153823</td>\n      <td>0.530937</td>\n      <td>0.256006</td>\n      <td>0.0</td>\n      <td>0.710311</td>\n      <td>0.000000</td>\n      <td>0.578954</td>\n    </tr>\n  </tbody>\n</table>\n<p>15941 rows × 14 columns</p>\n</div>"
     },
     "execution_count": 21,
     "metadata": {},
     "output_type": "execute_result"
    }
   ],
   "source": [
    "from sklearn.preprocessing import MinMaxScaler\n",
    "\n",
    "# WSZYSTKIE kolumny\n",
    "df_final = df_yeo.copy()\n",
    "scaler = MinMaxScaler()\n",
    "df_final[df_final.columns] = scaler.fit_transform(df_final[df_final.columns])\n",
    "df_final"
   ],
   "metadata": {
    "collapsed": false,
    "ExecuteTime": {
     "end_time": "2024-05-31T18:53:21.376780Z",
     "start_time": "2024-05-31T18:53:21.340897Z"
    }
   },
   "id": "ed12ec128a75df5b",
   "execution_count": 21
  },
  {
   "cell_type": "markdown",
   "source": [
    "ostateczna nazwa danych po wszytski transformacjach to df_final"
   ],
   "metadata": {
    "collapsed": false
   },
   "id": "5a92c28d767af52"
  },
  {
   "cell_type": "markdown",
   "source": [
    "# Modele"
   ],
   "metadata": {
    "collapsed": false
   },
   "id": "58a49f64f0329a6e"
  },
  {
   "cell_type": "code",
   "outputs": [],
   "source": [],
   "metadata": {
    "collapsed": false
   },
   "id": "4f8d991fcdeda1e"
  }
 ],
 "metadata": {
  "kernelspec": {
   "display_name": "Python 3",
   "language": "python",
   "name": "python3"
  },
  "language_info": {
   "codemirror_mode": {
    "name": "ipython",
    "version": 2
   },
   "file_extension": ".py",
   "mimetype": "text/x-python",
   "name": "python",
   "nbconvert_exporter": "python",
   "pygments_lexer": "ipython2",
   "version": "2.7.6"
  }
 },
 "nbformat": 4,
 "nbformat_minor": 5
}
