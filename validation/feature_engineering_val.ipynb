{
 "cells": [
  {
   "metadata": {},
   "cell_type": "markdown",
   "source": [
    "1. Dlaczego używacie 2 scalerow (standard i maxmin)? W jakich modelach planujecie korzystac z jednego i z drugiego?\n",
    "2. Chyba bez sensu, że dwa razy robicie transformacje i skalowanie?\n",
    "3. Ja mam error ,,BracketError: The algorithm terminated without finding a valid bracket. Consider trying different initial points\" przy transformacji danych, ale jak u was działa to fajnie.\n",
    "4. Reszta jest git, mogłoby być trochę więcej opisów, żeby było wiadomo, co dokładnie robicie i dlaczego lub gdzie i jak chcecie to wykorzystać."
   ],
   "id": "77fffd26453893a2"
  }
 ],
 "metadata": {
  "kernelspec": {
   "display_name": "Python 3",
   "language": "python",
   "name": "python3"
  },
  "language_info": {
   "codemirror_mode": {
    "name": "ipython",
    "version": 2
   },
   "file_extension": ".py",
   "mimetype": "text/x-python",
   "name": "python",
   "nbconvert_exporter": "python",
   "pygments_lexer": "ipython2",
   "version": "2.7.6"
  }
 },
 "nbformat": 4,
 "nbformat_minor": 5
}
