{
 "cells": [
  {
   "cell_type": "code",
   "execution_count": null,
   "id": "4566b97b",
   "metadata": {},
   "outputs": [],
   "source": [
    "print(data[\"rating\"][0])\n",
    "contains_only_numbers_and_dots(data[\"rating\"][0])"
   ]
  },
  {
   "cell_type": "markdown",
   "source": [
    "1. tutaj ciezko stwierdzic na pierwszy rzut oka, co to miało zrobić/pokazać, warto wyjasnic krotko chociaz jednym zdaniem (czemu akurat dla ,,rating\" tylko?)"
   ],
   "metadata": {
    "collapsed": false
   },
   "id": "c7ae1965871f85f8"
  },
  {
   "cell_type": "markdown",
   "source": [
    "2. podoba mi się to sprawdzanie typów danych i co zawierają te z innymi typami itp. - fajnie zrobione\n",
    "3. fajnie, że jest dużo komentarzy i tekstu ospisującego, co robicie i dlaczego\n",
    "4. może warto by było dopisać jakieś podsumowanie słownie do wykresów (niekoniecznie, bo nie jest ich dużo, więc łatwo samemu sobie zobaczyć, ale możecie pomysleć nad tym)\n",
    "5. fajnie, że już zaczęliście mapowanie\n",
    "6. na scatterplotach i pozniejszych heatmapach faktycznie niewiele widać, ale to już sami napisaliście - fajnie, że próbowaliście heatmapy, bo przynjamniej po przybliżeniu tam cokolwiek widać, a na scatterplotach nic (nie wasza wina, dużo danych)\n",
    "7. do następnych wykresów (ceny od różnych kolumn - boxplot i histogramy): nie jest nic do nich napisane, ale prawdopodobnie planowaliście na prezentacji coś do nich powiedzieć, jeśli będziecie je pokazywać. Nie musicie dopisywać nic w kodzie, bo sporo widać, ale jeśli będą te wykresy pokazywane, to nie zapomnijcie coś sami do nich dopowiedzieć, a nie tylko pokazać:)\n",
    "8. to samo do sekcji ,,wpływ zmiennych na rating\", co w pkt. 7\n",
    "9. podobają mi się mapy z dzielnicami i ,,poddzielnicami\" - pomocne i fajnie widoczne \n",
    "10. mapa z cenami i rating też bardzo fajna, ale jakiś komentarz dotyczący tego, że wielkość kropki to wysokość ceny by nie przydał (może być słownie tylko na prezentacji), bo nie ma w legendzie\n",
    "11. to samo co w pkt. 10 do ostatniego wykresu\n",
    "12. ogólnie bardzo fajnie zrobione, dużo róznych rzeczy, dużo różnych wartości objaśnionych i zilustrowanych"
   ],
   "metadata": {
    "collapsed": false
   },
   "id": "bfc40d593123644f"
  }
 ],
 "metadata": {
  "kernelspec": {
   "display_name": "Python 3 (ipykernel)",
   "language": "python",
   "name": "python3"
  },
  "language_info": {
   "codemirror_mode": {
    "name": "ipython",
    "version": 3
   },
   "file_extension": ".py",
   "mimetype": "text/x-python",
   "name": "python",
   "nbconvert_exporter": "python",
   "pygments_lexer": "ipython3",
   "version": "3.9.12"
  }
 },
 "nbformat": 4,
 "nbformat_minor": 5
}
